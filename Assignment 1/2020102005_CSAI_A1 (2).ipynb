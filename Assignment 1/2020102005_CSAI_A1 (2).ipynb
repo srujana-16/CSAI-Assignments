{
  "nbformat": 4,
  "nbformat_minor": 0,
  "metadata": {
    "colab": {
      "provenance": []
    },
    "kernelspec": {
      "name": "python3",
      "display_name": "Python 3"
    },
    "language_info": {
      "name": "python"
    }
  },
  "cells": [
    {
      "cell_type": "markdown",
      "source": [
        "# **CSAI ASSIGNMENT 1**\n",
        "# Srujana Vanka - 2020102005"
      ],
      "metadata": {
        "id": "peu96hnhYhzU"
      }
    },
    {
      "cell_type": "markdown",
      "source": [
        "## objective 1"
      ],
      "metadata": {
        "id": "Xv7eYbdMYbCT"
      }
    },
    {
      "cell_type": "code",
      "execution_count": null,
      "metadata": {
        "id": "-hATRLGvKa4K"
      },
      "outputs": [],
      "source": [
        "# Import libraries\n",
        "!pip install nilearn \n",
        "import nilearn\n",
        "from nilearn import datasets                          # Fetch data using nilearn dataset fetcher\n",
        "from nilearn import image\n",
        "from nilearn.decoding import Decoder\n",
        "import matplotlib                                     # Matplotlib to plot the outputs \n",
        "import matplotlib.pyplot as plot\n",
        "import pandas as pd\n",
        "import numpy as np\n",
        "from nilearn.decoding import Decoder\n",
        "from nilearn.maskers import NiftiMasker                # Load nilearn NiftiMasker\n",
        "from nilearn.image import index_img              \n",
        "from sklearn.model_selection import LeaveOneGroupOut   # Data splitting object for cross validation\n",
        "import warnings                                        # Ignore warnings in output\n",
        "warnings.simplefilter(\"ignore\") "
      ]
    },
    {
      "cell_type": "code",
      "source": [
        "# Fetches the Haxby dataset, which is a collection of neuroimaging data, and provides \n",
        "# information about the different pieces of data that are included in the dataset\n",
        "haxby_dataset = datasets.fetch_haxby()\n",
        "\n",
        "# Get list of keys in the dataset and sort them\n",
        "keys = sorted(list(haxby_dataset.keys()))\n",
        "print(\"List of keys in the dataset (sorted order): \", keys)\n",
        "\n",
        "# First functional Nifti image\n",
        "func_filename = haxby_dataset[\"func\"][0]\n",
        "\n",
        "# GFirst anatomical Nifti image\n",
        "anat_filename = haxby_dataset[\"anat\"][0]\n",
        "\n",
        "print(\"Anatomical Nifti image (3D) present at (First subject): \", anat_filename)\n",
        "print(\"Functional Nifti image (4D) present at (First subject): \", func_filename)\n",
        "\n",
        "# Printing the shape of loaded functional image gives you the total number of brain volumes\n",
        "fmri_img = image.load_img(haxby_dataset['func'])\n",
        "print(\"Shape of the loaded functional image: \", fmri_img.shape)\n",
        "     "
      ],
      "metadata": {
        "colab": {
          "base_uri": "https://localhost:8080/"
        },
        "id": "i2CIMqinLHFR",
        "outputId": "87c87aa8-999c-4a83-e65d-d19e03029892"
      },
      "execution_count": 8,
      "outputs": [
        {
          "output_type": "stream",
          "name": "stdout",
          "text": [
            "List of keys in the dataset (sorted order):  ['anat', 'description', 'func', 'mask', 'mask_face', 'mask_face_little', 'mask_house', 'mask_house_little', 'mask_vt', 'session_target']\n",
            "Anatomical Nifti image (3D) present at (First subject):  /root/nilearn_data/haxby2001/subj2/anat.nii.gz\n",
            "Functional Nifti image (4D) present at (First subject):  /root/nilearn_data/haxby2001/subj2/bold.nii.gz\n",
            "Shape of the loaded functional image:  (40, 64, 64, 1452)\n"
          ]
        }
      ]
    },
    {
      "cell_type": "code",
      "source": [
        "# Reading labels from a file specified in haxby_dataset.session_target[0] and storing them in a pandas DataFrame labels\n",
        "labels = pd.read_csv(haxby_dataset.session_target[0], sep=\" \")\n",
        "\n",
        "# Extract stimuli information\n",
        "stimuli = labels['labels']\n",
        "categories = stimuli[stimuli != 'rest'].unique()\n",
        "session_labels = labels.loc[stimuli != 'rest', \"chunks\"]\n",
        "\n",
        "# task_mask is applied to the fMRI data stored in func_filename\n",
        "task_mask = (stimuli != 'rest')\n",
        "task_data = index_img(func_filename, task_mask)\n",
        "\n",
        "# Splitting object for cross validation\n",
        "cv = LeaveOneGroupOut()"
      ],
      "metadata": {
        "id": "__698UTBcLcs"
      },
      "execution_count": 9,
      "outputs": []
    },
    {
      "cell_type": "code",
      "source": [
        "def get_masker(mask_filename):\n",
        "    \"\"\"Return a NiftiMasker object for the specified mask file.\"\"\"\n",
        "    return NiftiMasker(mask_img=mask_filename, standardize=True)\n",
        "\n",
        "def get_decoder(masker, task_data, classification_target, session_labels, cv, scoring='roc_auc'):\n",
        "    \"\"\"Return a fitted decoder object.\"\"\"\n",
        "    decoder = Decoder(estimator='svc_l1', cv=cv,\n",
        "                      mask=masker, scoring=scoring)\n",
        "    decoder.fit(task_data, classification_target, groups=session_labels)\n",
        "    return decoder\n",
        "\n",
        "def init_decoder(masker, task_data, classification_target, session_labels, cv, scoring='roc_auc'):\n",
        "    \"\"\"Return a fitted dummy decoder object.\"\"\"\n",
        "    decoder = Decoder(estimator='dummy_classifier', cv=cv,\n",
        "                      mask=masker, scoring=scoring)\n",
        "    decoder.fit(task_data, classification_target, groups=session_labels)\n",
        "    return decoder\n",
        "\n",
        "mask_names = ['mask_vt', 'mask_face', 'mask_house']\n",
        "mask_scores = {}\n",
        "mask_chance_scores = {}\n",
        "\n",
        "for m in mask_names:\n",
        "    # print(\"Working on %s\" % m)\n",
        "    mask_filename = haxby_dataset[m][0]\n",
        "    masker = get_masker(mask_filename)\n",
        "    mask_scores[m] = {}\n",
        "    mask_chance_scores[m] = {}\n",
        "\n",
        "    for category in categories:\n",
        "        # print(\"Processing %s %s\" % (m, category))\n",
        "        classification_target = (stimuli[task_mask] == category)\n",
        "        decoder = get_decoder(masker, task_data, classification_target, session_labels, cv)\n",
        "        mask_scores[m][category] = decoder.cv_scores_[1]\n",
        "        # print(\"Scores: %1.2f +- %1.2f\" % (\n",
        "              # np.mean(mask_scores[m][category]),\n",
        "              # np.std(mask_scores[m][category])))\n",
        "\n",
        "        dummy_decoder = init_decoder(masker, task_data, classification_target, session_labels, cv)\n",
        "        mask_chance_scores[m][category] = dummy_decoder.cv_scores_[1]"
      ],
      "metadata": {
        "id": "lqF6Teyucixj"
      },
      "execution_count": 26,
      "outputs": []
    },
    {
      "cell_type": "code",
      "source": [
        "mask_names = ['mask_vt', 'mask_face', 'mask_house']\n",
        "\n",
        "def plot_mask(mask_names, mask_scores, categories):\n",
        "    for m in mask_names:\n",
        "        fig = plot.figure(figsize=(8,8))\n",
        "        fig, ax = plot.subplots()\n",
        "        ax.boxplot([mask_scores[m][cat] for cat in categories], labels=categories)\n",
        "        ax.set_title(\"Accuracy Score vs Category for %s\" % m)\n",
        "        ax.set_ylabel(\"Accuracy Score\")\n",
        "    plot.show()\n",
        "\n",
        "plot_mask(mask_names, mask_scores, categories)"
      ],
      "metadata": {
        "colab": {
          "base_uri": "https://localhost:8080/",
          "height": 809
        },
        "id": "0ZyUqni1daps",
        "outputId": "1796f730-fb1c-46bf-b2c5-c12bf62fefcb"
      },
      "execution_count": 24,
      "outputs": [
        {
          "output_type": "display_data",
          "data": {
            "text/plain": [
              "<Figure size 432x288 with 1 Axes>"
            ],
            "image/png": "[encoded data removed]"
          },
          "metadata": {
            "needs_background": "light"
          }
        },
        {
          "output_type": "display_data",
          "data": {
            "text/plain": [
              "<Figure size 432x288 with 1 Axes>"
            ],
            "image/png": "[encoded data removed]"
          },
          "metadata": {
            "needs_background": "light"
          }
        },
        {
          "output_type": "display_data",
          "data": {
            "text/plain": [
              "<Figure size 432x288 with 1 Axes>"
            ],
            "image/png": "[encoded data removed]"
          },
          "metadata": {
            "needs_background": "light"
          }
        }
      ]
    },
    {
      "cell_type": "markdown",
      "source": [
        "## objective 2"
      ],
      "metadata": {
        "id": "5mzomFKOYuup"
      }
    },
    {
      "cell_type": "code",
      "source": [
        "# Import libraries\n",
        "!pip install nilearn \n",
        "import nilearn\n",
        "from nilearn import datasets                          # Fetch data using nilearn dataset fetcher\n",
        "from nilearn import image\n",
        "from nilearn.decoding import Decoder\n",
        "from nilearn.glm.first_level import FirstLevelModel\n",
        "from nilearn.image import index_img           \n",
        "from numpy import array\n",
        "from sklearn.model_selection import train_test_split\n",
        "from sklearn.svm import SVC\n",
        "from sklearn.metrics import accuracy_score\n",
        "import pandas as pd\n",
        "import numpy as np"
      ],
      "metadata": {
        "id": "WzUEkShPDTF3"
      },
      "execution_count": null,
      "outputs": []
    },
    {
      "cell_type": "code",
      "source": [
        "behavioral = pd.read_csv(haxby_dataset.session_target[0], sep=' ')\n",
        "\n",
        "conditions = behavioral['labels']\n",
        "sessions = behavioral['chunks']\n",
        "\n",
        "# a binary array indicating which events belong to which session\n",
        "unique_sessions = sessions.unique()"
      ],
      "metadata": {
        "id": "HVrHvYgVZyfh"
      },
      "execution_count": 11,
      "outputs": []
    },
    {
      "cell_type": "code",
      "source": [
        "TR = 2.5\n",
        "# a dictionary that maps each session to a list of event information\n",
        "events = {}\n",
        "\n",
        "for session in np.unique(sessions):\n",
        "    conditions_session = conditions[sessions == session]\n",
        "    n_scans = len(conditions_session)\n",
        "    frame_times = TR * np.arange(n_scans)\n",
        "    duration = TR * np.ones(n_scans)\n",
        "    \n",
        "    events[session] = pd.DataFrame({\n",
        "        'onset': frame_times,\n",
        "        'trial_type': conditions_session,\n",
        "        'duration': duration\n",
        "    })\n",
        "\n",
        "assert len(events) == len(np.unique(sessions))\n",
        "\n",
        "for i in events:\n",
        "    assert events[i].shape == (121, 3)\n",
        "\n",
        "# Three ingredients that should be user specified in order \n",
        "# to make a design matrix through stimulus onset, stimlus\n",
        "# conditions and duration.\n",
        "print(events)\n",
        "\n",
        "print(conditions.shape)\n",
        "print(conditions_session.shape)"
      ],
      "metadata": {
        "colab": {
          "base_uri": "https://localhost:8080/"
        },
        "id": "7ozAzD8AddJp",
        "outputId": "845db347-4785-4870-ed99-f721afd46e5d"
      },
      "execution_count": 12,
      "outputs": [
        {
          "output_type": "stream",
          "name": "stdout",
          "text": [
            "{0:      onset trial_type  duration\n",
            "0      0.0       rest       2.5\n",
            "1      2.5       rest       2.5\n",
            "2      5.0       rest       2.5\n",
            "3      7.5       rest       2.5\n",
            "4     10.0       rest       2.5\n",
            "..     ...        ...       ...\n",
            "116  290.0       rest       2.5\n",
            "117  292.5       rest       2.5\n",
            "118  295.0       rest       2.5\n",
            "119  297.5       rest       2.5\n",
            "120  300.0       rest       2.5\n",
            "\n",
            "[121 rows x 3 columns], 1:      onset trial_type  duration\n",
            "121    0.0       rest       2.5\n",
            "122    2.5       rest       2.5\n",
            "123    5.0       rest       2.5\n",
            "124    7.5       rest       2.5\n",
            "125   10.0       rest       2.5\n",
            "..     ...        ...       ...\n",
            "237  290.0       rest       2.5\n",
            "238  292.5       rest       2.5\n",
            "239  295.0       rest       2.5\n",
            "240  297.5       rest       2.5\n",
            "241  300.0       rest       2.5\n",
            "\n",
            "[121 rows x 3 columns], 2:      onset trial_type  duration\n",
            "242    0.0       rest       2.5\n",
            "243    2.5       rest       2.5\n",
            "244    5.0       rest       2.5\n",
            "245    7.5       rest       2.5\n",
            "246   10.0       rest       2.5\n",
            "..     ...        ...       ...\n",
            "358  290.0       rest       2.5\n",
            "359  292.5       rest       2.5\n",
            "360  295.0       rest       2.5\n",
            "361  297.5       rest       2.5\n",
            "362  300.0       rest       2.5\n",
            "\n",
            "[121 rows x 3 columns], 3:      onset trial_type  duration\n",
            "363    0.0       rest       2.5\n",
            "364    2.5       rest       2.5\n",
            "365    5.0       rest       2.5\n",
            "366    7.5       rest       2.5\n",
            "367   10.0       rest       2.5\n",
            "..     ...        ...       ...\n",
            "479  290.0       rest       2.5\n",
            "480  292.5       rest       2.5\n",
            "481  295.0       rest       2.5\n",
            "482  297.5       rest       2.5\n",
            "483  300.0       rest       2.5\n",
            "\n",
            "[121 rows x 3 columns], 4:      onset trial_type  duration\n",
            "484    0.0       rest       2.5\n",
            "485    2.5       rest       2.5\n",
            "486    5.0       rest       2.5\n",
            "487    7.5       rest       2.5\n",
            "488   10.0       rest       2.5\n",
            "..     ...        ...       ...\n",
            "600  290.0       rest       2.5\n",
            "601  292.5       rest       2.5\n",
            "602  295.0       rest       2.5\n",
            "603  297.5       rest       2.5\n",
            "604  300.0       rest       2.5\n",
            "\n",
            "[121 rows x 3 columns], 5:      onset trial_type  duration\n",
            "605    0.0       rest       2.5\n",
            "606    2.5       rest       2.5\n",
            "607    5.0       rest       2.5\n",
            "608    7.5       rest       2.5\n",
            "609   10.0       rest       2.5\n",
            "..     ...        ...       ...\n",
            "721  290.0       rest       2.5\n",
            "722  292.5       rest       2.5\n",
            "723  295.0       rest       2.5\n",
            "724  297.5       rest       2.5\n",
            "725  300.0       rest       2.5\n",
            "\n",
            "[121 rows x 3 columns], 6:      onset trial_type  duration\n",
            "726    0.0       rest       2.5\n",
            "727    2.5       rest       2.5\n",
            "728    5.0       rest       2.5\n",
            "729    7.5       rest       2.5\n",
            "730   10.0       rest       2.5\n",
            "..     ...        ...       ...\n",
            "842  290.0       rest       2.5\n",
            "843  292.5       rest       2.5\n",
            "844  295.0       rest       2.5\n",
            "845  297.5       rest       2.5\n",
            "846  300.0       rest       2.5\n",
            "\n",
            "[121 rows x 3 columns], 7:      onset trial_type  duration\n",
            "847    0.0       rest       2.5\n",
            "848    2.5       rest       2.5\n",
            "849    5.0       rest       2.5\n",
            "850    7.5       rest       2.5\n",
            "851   10.0       rest       2.5\n",
            "..     ...        ...       ...\n",
            "963  290.0       rest       2.5\n",
            "964  292.5       rest       2.5\n",
            "965  295.0       rest       2.5\n",
            "966  297.5       rest       2.5\n",
            "967  300.0       rest       2.5\n",
            "\n",
            "[121 rows x 3 columns], 8:       onset trial_type  duration\n",
            "968     0.0       rest       2.5\n",
            "969     2.5       rest       2.5\n",
            "970     5.0       rest       2.5\n",
            "971     7.5       rest       2.5\n",
            "972    10.0       rest       2.5\n",
            "...     ...        ...       ...\n",
            "1084  290.0       rest       2.5\n",
            "1085  292.5       rest       2.5\n",
            "1086  295.0       rest       2.5\n",
            "1087  297.5       rest       2.5\n",
            "1088  300.0       rest       2.5\n",
            "\n",
            "[121 rows x 3 columns], 9:       onset trial_type  duration\n",
            "1089    0.0       rest       2.5\n",
            "1090    2.5       rest       2.5\n",
            "1091    5.0       rest       2.5\n",
            "1092    7.5       rest       2.5\n",
            "1093   10.0       rest       2.5\n",
            "...     ...        ...       ...\n",
            "1205  290.0       rest       2.5\n",
            "1206  292.5       rest       2.5\n",
            "1207  295.0       rest       2.5\n",
            "1208  297.5       rest       2.5\n",
            "1209  300.0       rest       2.5\n",
            "\n",
            "[121 rows x 3 columns], 10:       onset trial_type  duration\n",
            "1210    0.0       rest       2.5\n",
            "1211    2.5       rest       2.5\n",
            "1212    5.0       rest       2.5\n",
            "1213    7.5       rest       2.5\n",
            "1214   10.0       rest       2.5\n",
            "...     ...        ...       ...\n",
            "1326  290.0       rest       2.5\n",
            "1327  292.5       rest       2.5\n",
            "1328  295.0       rest       2.5\n",
            "1329  297.5       rest       2.5\n",
            "1330  300.0       rest       2.5\n",
            "\n",
            "[121 rows x 3 columns], 11:       onset trial_type  duration\n",
            "1331    0.0       rest       2.5\n",
            "1332    2.5       rest       2.5\n",
            "1333    5.0       rest       2.5\n",
            "1334    7.5       rest       2.5\n",
            "1335   10.0       rest       2.5\n",
            "...     ...        ...       ...\n",
            "1447  290.0       rest       2.5\n",
            "1448  292.5       rest       2.5\n",
            "1449  295.0       rest       2.5\n",
            "1450  297.5       rest       2.5\n",
            "1451  300.0       rest       2.5\n",
            "\n",
            "[121 rows x 3 columns]}\n",
            "(1452,)\n",
            "(121,)\n"
          ]
        }
      ]
    },
    {
      "cell_type": "code",
      "source": [
        "contrasts = {\n",
        "    'bottle': array([1., 0., 0., 0., 0., 0., 0., 0., 0., 0., 0., 0., 0., 0.]),\n",
        "    'cat':   array([0., 1., 0., 0., 0., 0., 0., 0., 0., 0., 0., 0., 0., 0.]),\n",
        "    'chair':   array([0., 0., 1., 0., 0., 0., 0., 0., 0., 0., 0., 0., 0., 0.]),\n",
        "    'face':   array([0., 0., 0., 1., 0., 0., 0., 0., 0., 0., 0., 0., 0., 0.]),\n",
        "    'house':   array([0., 0., 0., 0., 1., 0., 0., 0., 0., 0., 0., 0., 0., 0.]),\n",
        "    'rest':   array([0., 0., 0., 0., 0., 1., 0., 0., 0., 0., 0., 0., 0., 0.]),\n",
        "    'scissors':   array([0., 0., 0., 0., 0., 0., 1., 0., 0., 0., 0., 0., 0., 0.]),\n",
        "    'scrambledpix':   array([0., 0., 0., 0., 0., 0., 0., 1., 0., 0., 0., 0., 0., 0.]),\n",
        "    'shoe':   array([0., 0., 0., 0., 0., 0., 0., 0., 1., 0., 0., 0., 0., 0.]),\n",
        "}\n",
        "\n",
        "def compute_z_maps(fmri_img, TR, events, sessions, categories, haxby_dataset):\n",
        "    z_maps = []\n",
        "    conditions_label = []\n",
        "    each_session_label = []\n",
        "\n",
        "    for session in np.unique(sessions):\n",
        "        glm = FirstLevelModel(t_r=TR,\n",
        "                              mask_img=haxby_dataset.mask,\n",
        "                              high_pass=0.008,\n",
        "                              smoothing_fwhm=8.)  \n",
        "\n",
        "        # Fit the GLM to the fMRI data and events for this session\n",
        "        fmri_session = index_img(fmri_img, sessions == session)\n",
        "        glm.fit(fmri_session, events=events[session])\n",
        "        # Computing the contrast map by subtracting the z-score map of 'rest' condition from the z-score map of the condition\n",
        "        for condition in categories:\n",
        "            condition_minus_rest = contrasts[condition] - contrasts['rest']\n",
        "            z_map_condition_vs_rest = glm.compute_contrast(condition_minus_rest,\n",
        "                                             output_type='z_score')\n",
        "            z_maps.append(z_map_condition_vs_rest)\n",
        "            conditions_label.append(condition)\n",
        "            each_session_label.append(session)\n",
        "    return z_maps, conditions_label, each_session_label\n",
        "\n",
        "\n",
        "glm = FirstLevelModel(t_r=TR,\n",
        "                      mask_img=haxby_dataset.mask,\n",
        "                      high_pass=0.008,\n",
        "                      smoothing_fwhm=8.)\n",
        "\n",
        "\n",
        "fmri_img = image.load_img(haxby_dataset['func'])\n",
        "z_maps, conditions_label, each_session_label = compute_z_maps(fmri_img, TR, events, sessions, categories, haxby_dataset)"
      ],
      "metadata": {
        "id": "2sk62msldkEF"
      },
      "execution_count": 13,
      "outputs": []
    },
    {
      "cell_type": "code",
      "source": [
        "mask_scores = {}\n",
        "mask_scores_face_house = {}\n",
        "\n",
        "assert len(z_maps) == 96 # z_maps must have 96 elements\n",
        "assert len(conditions_label) == 96 # conditions_label must have 96 elements\n",
        "assert len(each_session_label) == 96 # each_session_label must have 96 elements\n",
        "\n",
        "for mask_name in mask_names:\n",
        "    mask_filename = haxby_dataset[mask_name][0]\n",
        "    masker = NiftiMasker(mask_img=mask_filename, standardize=True)\n",
        "    mask_scores_face_house[mask_name] = {}\n",
        "    \n",
        "    for category in categories:\n",
        "        classification_target = conditions_label\n",
        "        decoder = Decoder(estimator='svc_l1', cv=cv,\n",
        "                          mask=masker, scoring='roc_auc')\n",
        "        decoder.fit(z_maps, classification_target, groups=each_session_label)\n",
        "        mask_scores_face_house[mask_name][category] = decoder.cv_scores_[category]\n",
        "        mask_scores[mask_name + \"_\" + category] = decoder.cv_scores_[category]"
      ],
      "metadata": {
        "id": "bpKafOCvhtx_"
      },
      "execution_count": 25,
      "outputs": []
    },
    {
      "cell_type": "code",
      "source": [
        "graph_titles = ['Ventral Temporal Mask', 'Face Responsive Mask', 'House Responsive Mask']\n",
        "\n",
        "for i, mask_name in enumerate(mask_names):\n",
        "    fig, ax = plot.subplots(figsize=(7, 7))\n",
        "    categories = ['face', 'house']\n",
        "    ax.boxplot([mask_scores_face_house[mask_name][cat] for cat in categories], labels=categories)\n",
        "    ax.set_title(graph_titles[i])\n",
        "    ax.set_ylabel(\"Accuracy Score\")\n",
        "    plot.show()"
      ],
      "metadata": {
        "colab": {
          "base_uri": "https://localhost:8080/",
          "height": 1000
        },
        "id": "BqQKt1z3h5Xd",
        "outputId": "3fa52b28-c16c-4b14-d82a-eb14ba9fd820"
      },
      "execution_count": 30,
      "outputs": [
        {
          "output_type": "display_data",
          "data": {
            "text/plain": [
              "<Figure size 504x504 with 1 Axes>"
            ],
            "image/png": "[encoded data removed]"
          },
          "metadata": {
            "needs_background": "light"
          }
        },
        {
          "output_type": "display_data",
          "data": {
            "text/plain": [
              "<Figure size 504x504 with 1 Axes>"
            ],
            "image/png": "[encoded data removed]"
          },
          "metadata": {
            "needs_background": "light"
          }
        },
        {
          "output_type": "display_data",
          "data": {
            "text/plain": [
              "<Figure size 504x504 with 1 Axes>"
            ],
            "image/png": "[encoded data removed]"
          },
          "metadata": {
            "needs_background": "light"
          }
        }
      ]
    },
    {
      "cell_type": "markdown",
      "source": [
        "**1. What are the differences between 1 and 2 in terms of building classification model? Discuss the trends in classification patterns, for example which of the following input i.e., raw timeseries or statistically derived maps makes more sense for predicting experimental stimuli and why?**\n",
        "\n",
        "Raw timeseries signals data is more complicated and requires additional pre-processing, such as feature extraction and dimensionality reduction, to get it into a form that can be utilised for classification. Activation maps, on the other hand, have already undergone statistical analysis and have a decreased dimensionality, therefore less pre-processing is needed.\n",
        "\n",
        "Which input is more appropriate for forecasting experimental stimuli depends on the particular use case and the objectives of the study. Using statistical analysis, activation maps can be created to show which parts of the brain are consistently responding to a given stimulus throughout a population. The brain activity in response to a stimulus, however, may be more fully described in raw timeseries signals data, which could additionally\n",
        "\n",
        "**2. Which classification model match with the conclusions of the original paper (Haxby et al. 2001)?**\n",
        "\n",
        "In the study, they classified the various experimental situations (facial or home stimuli) using fMRI data using a linear support vector machine (SVM). The outcomes demonstrated that the MVPA method was successful in correctly identifying the experimental situations when employing the -maps (statistically produced maps) as inputs."
      ],
      "metadata": {
        "id": "TemgQoFSNjBl"
      }
    }
  ]
}